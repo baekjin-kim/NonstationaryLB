{
 "cells": [
  {
   "cell_type": "code",
   "execution_count": 1,
   "metadata": {},
   "outputs": [],
   "source": [
    "%matplotlib inline\n",
    "import os\n",
    "os.chdir(\"..\")\n",
    "import matplotlib.pyplot as plt\n",
    "import sys\n",
    "import pandas as pd\n",
    "import numpy as np\n",
    "from sklearn.linear_model import LinearRegression\n",
    "from sklearn.decomposition import TruncatedSVD\n",
    "import os\n",
    "from math import log\n",
    "import random\n",
    "import time\n",
    "import pickle\n",
    "from numpy.linalg import pinv\n",
    "from arm_class import ArmGaussian\n",
    "from LinTS_class import PolicyLinTS\n",
    "from LinUCB_class import PolicyLinUCB\n",
    "from D_LinUCB_class import DLinUCB\n",
    "from D_LinTS_class import DLinTS\n",
    "from D_RandLinUCB_class import DRandLinUCB\n",
    "from environment_class import Environment\n",
    "from simulator_class import Simulator\n",
    "from utils import plot_regret"
   ]
  },
  {
   "cell_type": "code",
   "execution_count": 2,
   "metadata": {},
   "outputs": [],
   "source": [
    "#Input Parameters\n",
    "d = 20  # dimension\n",
    "k = 5  # number of arms / 2"
   ]
  },
  {
   "cell_type": "code",
   "execution_count": 3,
   "metadata": {},
   "outputs": [
    {
     "name": "stdout",
     "output_type": "stream",
     "text": [
      "(200000, 20)\n"
     ]
    }
   ],
   "source": [
    "#Load Criteo Dataset\n",
    "seed = 1\n",
    "DATA_FILE='criteo_attribution_dataset.tsv.gz'\n",
    "df = pd.read_csv(DATA_FILE, sep='\\t', compression='gzip')\n",
    "df_sub = df.sample(n=200000, random_state=seed)\n",
    "FEATURES = ['campaign', 'cat1', 'cat2', 'cat3', 'cat4', 'cat5', 'cat6', 'cat8', 'cat9']\n",
    "df_onehot = df_sub.click\n",
    "for index in FEATURES:\n",
    "    df_add = pd.get_dummies(df_sub[index])\n",
    "    df_onehot = pd.concat([df_onehot, df_add], axis=1)\n",
    "df_onehot.drop(['click'], axis=1)\n",
    "svd = TruncatedSVD(d)\n",
    "reduced = svd.fit_transform(df_onehot)\n",
    "print(reduced.shape)"
   ]
  },
  {
   "cell_type": "code",
   "execution_count": 4,
   "metadata": {},
   "outputs": [
    {
     "name": "stdout",
     "output_type": "stream",
     "text": [
      "-1.145094961105626\n",
      "[ 5.45270201e-01 -3.17013437e-02  4.68441848e-01  1.35591348e-01\n",
      "  9.34757413e-01  1.24833262e+00 -9.68405935e-01  7.47052996e-02\n",
      "  1.59206186e-01 -1.44882214e-01 -1.77669637e-02  8.56206857e-02\n",
      "  4.47593319e-04  3.11039287e-02 -1.94864675e-02 -1.26048736e-01\n",
      "  4.71013348e-02 -4.10918028e-02 -3.88386234e-04  1.00458896e-02]\n",
      "1.9967152691289558\n",
      "3.0031194596682527\n"
     ]
    }
   ],
   "source": [
    "#Manipulating Dataset for Experiment\n",
    "df_reduced = pd.DataFrame(data = reduced)\n",
    "X = df_reduced\n",
    "y = 2*df_sub.click-1\n",
    "reg = LinearRegression().fit(X, y)\n",
    "print(reg.intercept_)\n",
    "print(reg.coef_)\n",
    "coef = reg.coef_\n",
    "s = np.linalg.norm(coef)\n",
    "print(s)\n",
    "df_not_click = df_reduced[(df_sub.click == 0).tolist()].sample(n=10000, random_state=seed)\n",
    "df_click = df_reduced[(df_sub.click == 1).tolist()].sample(n=10000, random_state=seed)\n",
    "m1 = np.max(np.sqrt(np.square(df_not_click).sum(axis=1)))\n",
    "m2 = np.max(np.sqrt(np.square(df_click).sum(axis=1)))\n",
    "l = np.max([m1,m2])\n",
    "print(l)"
   ]
  },
  {
   "cell_type": "code",
   "execution_count": 5,
   "metadata": {},
   "outputs": [],
   "source": [
    "# General parameters\n",
    "delta = 0.01 # Probability of being outside the confidence interval\n",
    "lambda_ = 1 # Regularisation parameter\n",
    "q = 10 # Diplaying the quantile (in %)\n",
    "steps = 10000  # number of steps for the experiment\n",
    "n_scat = 1000 # How frequently should we plot the true parameter\n",
    "t_saved = None\n",
    "alpha = 1\n",
    "sigma_noise = np.sqrt(0.15) # Square root of the variance of the noise\n",
    "verbose = False"
   ]
  },
  {
   "cell_type": "code",
   "execution_count": 6,
   "metadata": {},
   "outputs": [],
   "source": [
    "# Simulator Functions\n",
    "def experiment_policies(n_mc):\n",
    "    mab = Environment(d, theta, sigma_noise, verbose, None, df_click, df_not_click)\n",
    "    simulator = Simulator(mab, theta, policies, k, d, steps, bp, verbose)\n",
    "    avgRegret, qRegret, QRegret = simulator.run(steps, n_mc, q, n_scat, t_saved)\n",
    "    return avgRegret, qRegret, QRegret\n",
    "\n",
    "def data_from_experiment(n_mc):\n",
    "    avgRegret, qRegret, QRegret = experiment_policies(n_mc)\n",
    "    data = [[policy, avgRegret[policy], qRegret[policy],\n",
    "            QRegret[policy]] for policy in avgRegret]\n",
    "    return data"
   ]
  },
  {
   "cell_type": "code",
   "execution_count": 7,
   "metadata": {},
   "outputs": [
    {
     "name": "stdout",
     "output_type": "stream",
     "text": [
      "<built-in method astype of numpy.ndarray object at 0x7fcc33dfd3a0>\n",
      "<built-in method astype of numpy.ndarray object at 0x7fc7a51f01c0>\n",
      "B_T value: 3.9807940166340345\n",
      "Sigma value for the experimenxt: 0.3872983346207417\n",
      "gamma: 0.9992655541066336\n",
      "tau: 1361.5706875511999\n"
     ]
    }
   ],
   "source": [
    "### Description of the experiment\n",
    "np.random.seed(seed)\n",
    "theta = coef # Starting point of the true unknown parameter\n",
    "print(theta.astype)\n",
    "flip = 2*np.random.binomial(1,0.4,d)-1\n",
    "print(flip.astype)\n",
    "theta_flip = np.multiply(flip, theta)\n",
    "\n",
    "bp = {4001: theta_flip} # Descrition of the breakpoints\n",
    "B_T = np.linalg.norm(theta - theta_flip) # Computed manually\n",
    "print('B_T value:', B_T)\n",
    "print('Sigma value for the experimenxt:', sigma_noise)\n",
    "\n",
    "gamma  = 1 - (B_T/(d*steps))**(2/3) # Optimal Value to minimize the asymptotical regret\n",
    "tau = (d*steps/B_T)**(2/3) # Optimal Value to minimize the asymptotical regret\n",
    "print('gamma:', gamma)\n",
    "print('tau:', tau)\n",
    "\n",
    "policies = [\n",
    "            DLinUCB(d, delta, alpha, lambda_, s, l, gamma, '', sm = False, sigma_noise = sigma_noise, verbose=verbose),\n",
    "            DLinTS(d, delta, alpha, lambda_, s, l, gamma, '', sm = False, sigma_noise = sigma_noise, verbose=verbose),\n",
    "            DRandLinUCB(d, delta, alpha/2.5, lambda_, s, l, gamma, '', sm = False, sigma_noise = sigma_noise, verbose=verbose, option = \"couple_opt\"),\n",
    "            #PolicyLinUCB(d, delta, alpha, lambda_, s, l, '', sm = True, sigma_noise = sigma_noise, verbose=verbose),\n",
    "            #PolicyLinUCB(d, delta, alpha, lambda_, s, l, '-OR', sm = True, sigma_noise = sigma_noise, verbose=verbose, omniscient = True),\n",
    "            PolicyLinTS(d, delta, alpha, lambda_, s, l, '', sm = True, sigma_noise = sigma_noise, verbose=verbose),\n",
    "            PolicyLinTS(d, delta, alpha, lambda_, s, l, '-OR', sm = True, sigma_noise = sigma_noise, verbose=verbose, omniscient = True)\n",
    "           ]"
   ]
  },
  {
   "cell_type": "markdown",
   "metadata": {},
   "source": [
    "# Unparallelized experiments"
   ]
  },
  {
   "cell_type": "code",
   "execution_count": 8,
   "metadata": {},
   "outputs": [
    {
     "name": "stderr",
     "output_type": "stream",
     "text": [
      "100%|██████████| 100/100 [2:01:18<00:00, 72.44s/it] "
     ]
    },
    {
     "name": "stdout",
     "output_type": "stream",
     "text": [
      "-- Building data out of the experiments ---\n",
      "--- Data built ---\n"
     ]
    },
    {
     "name": "stderr",
     "output_type": "stream",
     "text": [
      "\n"
     ]
    }
   ],
   "source": [
    "data= data_from_experiment(n_mc=100)"
   ]
  },
  {
   "cell_type": "code",
   "execution_count": 9,
   "metadata": {},
   "outputs": [],
   "source": [
    "import pickle\n",
    "with open('20dim_10arms', 'wb') as f:\n",
    "    pickle.dump(data, f)"
   ]
  },
  {
   "cell_type": "code",
   "execution_count": 10,
   "metadata": {},
   "outputs": [
    {
     "data": {
      "image/png": "[encoded data removed]",
      "text/plain": [
       "<Figure size 504x432 with 1 Axes>"
      ]
     },
     "metadata": {
      "needs_background": "light"
     },
     "output_type": "display_data"
    }
   ],
   "source": [
    "plot_regret(data, t_saved, filename = None, log=False, qtl=False, loc=2, font=13, bp = bp, bp_2 = {})"
   ]
  },
  {
   "cell_type": "code",
   "execution_count": 11,
   "metadata": {},
   "outputs": [],
   "source": [
    "plot_regret(data, t_saved, filename = 'figure_10arms_20dim', log=False, qtl=False, loc=2, font=13, bp = bp, bp_2 = {})"
   ]
  }
 ],
 "metadata": {
  "kernelspec": {
   "display_name": "Python 3",
   "language": "python",
   "name": "python3"
  },
  "language_info": {
   "codemirror_mode": {
    "name": "ipython",
    "version": 3
   },
   "file_extension": ".py",
   "mimetype": "text/x-python",
   "name": "python",
   "nbconvert_exporter": "python",
   "pygments_lexer": "ipython3",
   "version": "3.7.1"
  }
 },
 "nbformat": 4,
 "nbformat_minor": 2
}
